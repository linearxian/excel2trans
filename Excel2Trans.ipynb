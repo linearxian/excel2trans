{
 "cells": [
  {
   "cell_type": "markdown",
   "metadata": {},
   "source": [
    "**Load the excel file**"
   ]
  },
  {
   "cell_type": "code",
   "execution_count": 1,
   "metadata": {
    "tags": []
   },
   "outputs": [],
   "source": [
    "import pandas as pd\n",
    "\n",
    "path_excel = r'/home/xian/Documents/SUITE_Trans/PostProcessing_JPN_CHN.xlsx'\n",
    "data = pd.read_excel (path_excel, header=0)\n",
    "df = pd.DataFrame(data)\n",
    "\n",
    "#print(repr(df.columns[1])) # show header column name\n",
    "#print(repr(df.iloc[53,0])) # access a field\n",
    "source_en = df['English (US)\\r\\n[ S; en-US ]'].to_list()"
   ]
  },
  {
   "cell_type": "markdown",
   "metadata": {},
   "source": [
    "**Save extracted data to file**"
   ]
  },
  {
   "cell_type": "code",
   "execution_count": 2,
   "metadata": {},
   "outputs": [],
   "source": [
    "with open('/home/xian/Documents/SUITE_Trans/output.txt', 'w') as f:\n",
    "    for item in source_en:\n",
    "        item = repr(item)\n",
    "        item = item[1:-1]\n",
    "        f.write(\"%s\\n\" % item)"
   ]
  },
  {
   "cell_type": "markdown",
   "metadata": {},
   "source": [
    "**Import Google Translate API**\n",
    "\n",
    "Try one sentence translation"
   ]
  },
  {
   "cell_type": "code",
   "execution_count": 3,
   "metadata": {
    "tags": []
   },
   "outputs": [
    {
     "output_type": "stream",
     "name": "stdout",
     "text": "Translated text: 停止\n"
    }
   ],
   "source": [
    "from google.cloud import translate\n",
    "\n",
    "def translate_text(text=\"YOUR_TEXT_TO_TRANSLATE\", project_id=\"YOUR_PROJECT_ID\"):\n",
    "    \"\"\"Translating Text.\"\"\"\n",
    "\n",
    "    client = translate.TranslationServiceClient()\n",
    "\n",
    "    parent = client.location_path(project_id, \"global\")\n",
    "\n",
    "    # Detail on supported types can be found here:\n",
    "    # https://cloud.google.com/translate/docs/supported-formats\n",
    "    response = client.translate_text(\n",
    "        parent=parent,\n",
    "        contents=[text],\n",
    "        mime_type=\"text/plain\",  # mime types: text/plain, text/html\n",
    "        source_language_code=\"en-US\",\n",
    "        target_language_code=\"zh-CN\",\n",
    "    )\n",
    "    # Display the translation for each input text provided\n",
    "    for translation in response.translations:\n",
    "        print(u\"Translated text: {}\".format(translation.translated_text))\n",
    "\n",
    "my_project_id = 'carbide-trees-283313'\n",
    "translate_text(text=item, project_id=my_project_id)"
   ]
  },
  {
   "cell_type": "markdown",
   "metadata": {},
   "source": [
    "**Batch Translation**"
   ]
  },
  {
   "cell_type": "code",
   "execution_count": 4,
   "metadata": {
    "tags": []
   },
   "outputs": [
    {
     "output_type": "stream",
     "name": "stdout",
     "text": "Waiting for operation to complete...\nTotal Characters: 47823\nTranslated Characters: 47823\n"
    }
   ],
   "source": [
    "from google.cloud import translate\n",
    "\n",
    "def batch_translate_text(\n",
    "    input_uri=\"gs://YOUR_BUCKET_ID/path/to/your/file.txt\",\n",
    "    output_uri=\"gs://YOUR_BUCKET_ID/path/to/save/results/\",\n",
    "    project_id=\"YOUR_PROJECT_ID\"\n",
    "):\n",
    "    \"\"\"Translates a batch of texts on GCS and stores the result in a GCS location.\"\"\"\n",
    "\n",
    "    client = translate.TranslationServiceClient()\n",
    "\n",
    "    location = \"us-central1\"\n",
    "    # Supported file types: https://cloud.google.com/translate/docs/supported-formats\n",
    "    gcs_source = {\"input_uri\": input_uri}\n",
    "\n",
    "    input_configs_element = {\n",
    "        \"gcs_source\": gcs_source,\n",
    "        \"mime_type\": \"text/plain\"  # Can be \"text/plain\" or \"text/html\".\n",
    "    }\n",
    "    gcs_destination = {\"output_uri_prefix\": output_uri}\n",
    "    output_config = {\"gcs_destination\": gcs_destination}\n",
    "    parent = client.location_path(project_id, location)\n",
    "\n",
    "    # Supported language codes: https://cloud.google.com/translate/docs/language\n",
    "    operation = client.batch_translate_text(\n",
    "        parent=parent,\n",
    "        source_language_code=\"en-US\",\n",
    "        target_language_codes=[\"zh-CN\"],  # Up to 10 language codes here.\n",
    "        input_configs=[input_configs_element],\n",
    "        output_config=output_config)\n",
    "\n",
    "    print(u\"Waiting for operation to complete...\")\n",
    "    response = operation.result(180)\n",
    "\n",
    "    print(u\"Total Characters: {}\".format(response.total_characters))\n",
    "    print(u\"Translated Characters: {}\".format(response.translated_characters))\n",
    "\n",
    "my_project_id = 'carbide-trees-283313'\n",
    "my_inpurt_url = \"gs://input_src/test/test.en.tsv\"\n",
    "my_output_url = \"gs://output_tgt/test/\"\n",
    "\n",
    "batch_translate_text(input_uri=my_inpurt_url, output_uri=my_output_url, project_id=my_project_id)"
   ]
  },
  {
   "cell_type": "markdown",
   "metadata": {},
   "source": [
    "**Create a Glossar list**"
   ]
  },
  {
   "cell_type": "code",
   "execution_count": 19,
   "metadata": {
    "tags": []
   },
   "outputs": [
    {
     "output_type": "stream",
     "name": "stdout",
     "text": "Created: projects/505142793087/locations/us-central1/glossaries/my_en_zh_glossary\nInput Uri: gs://input_src/glossary/test_glossary.csv\n"
    }
   ],
   "source": [
    "from google.cloud import translate_v3 as translate\n",
    "\n",
    "def create_glossary(\n",
    "    project_id=\"YOUR_PROJECT_ID\",\n",
    "    input_uri=\"YOUR_INPUT_URI\",\n",
    "    glossary_id=\"YOUR_GLOSSARY_ID\",\n",
    "):\n",
    "    \"\"\"\n",
    "    Create a equivalent term sets glossary. Glossary can be words or\n",
    "    short phrases (usually fewer than five words).\n",
    "    https://cloud.google.com/translate/docs/advanced/glossary#format-glossary\n",
    "    \"\"\"\n",
    "    client = translate.TranslationServiceClient()\n",
    "\n",
    "    # Supported language codes: https://cloud.google.com/translate/docs/languages\n",
    "    source_lang_code = \"en\"\n",
    "    target_lang_code = \"zh\"\n",
    "    location = \"us-central1\"  # The location of the glossary\n",
    "\n",
    "    name = client.glossary_path(project_id, location, glossary_id)\n",
    "    language_codes_set = translate.types.Glossary.LanguageCodesSet(\n",
    "        language_codes=[source_lang_code, target_lang_code]\n",
    "    )\n",
    "\n",
    "    gcs_source = translate.types.GcsSource(input_uri=input_uri)\n",
    "\n",
    "    input_config = translate.types.GlossaryInputConfig(gcs_source=gcs_source)\n",
    "\n",
    "    glossary = translate.types.Glossary(\n",
    "        name=name, language_codes_set=language_codes_set, input_config=input_config\n",
    "    )\n",
    "\n",
    "    parent = client.location_path(project_id, location)\n",
    "    # glossary is a custom dictionary Translation API uses\n",
    "    # to translate the domain-specific terminology.\n",
    "    operation = client.create_glossary(parent=parent, glossary=glossary)\n",
    "\n",
    "    result = operation.result(timeout=180)\n",
    "    print(\"Created: {}\".format(result.name))\n",
    "    print(\"Input Uri: {}\".format(result.input_config.gcs_source.input_uri))\n",
    "\n",
    "my_project_id = 'carbide-trees-283313'\n",
    "my_inpurt_url = \"gs://input_src/glossary/test_glossary.csv\"\n",
    "my_glossary_id = \"my_en_zh_glossary\"\n",
    "\n",
    "create_glossary(project_id=my_project_id, input_uri=my_inpurt_url, glossary_id=my_glossary_id)"
   ]
  },
  {
   "cell_type": "markdown",
   "metadata": {},
   "source": [
    "**Deleting a glossary**"
   ]
  },
  {
   "cell_type": "code",
   "execution_count": 18,
   "metadata": {
    "tags": []
   },
   "outputs": [
    {
     "output_type": "stream",
     "name": "stdout",
     "text": "Deleted: projects/505142793087/locations/us-central1/glossaries/my_en_zh_glossary\n"
    }
   ],
   "source": [
    "from google.cloud import translate_v3 as translate\n",
    "\n",
    "def delete_glossary(\n",
    "    project_id=\"YOUR_PROJECT_ID\", glossary_id=\"YOUR_GLOSSARY_ID\"\n",
    "):\n",
    "    \"\"\"Delete a specific glossary based on the glossary ID.\"\"\"\n",
    "    client = translate.TranslationServiceClient()\n",
    "\n",
    "    parent = client.glossary_path(project_id, \"us-central1\", glossary_id)\n",
    "\n",
    "    operation = client.delete_glossary(parent)\n",
    "    result = operation.result(timeout=180)\n",
    "    print(\"Deleted: {}\".format(result.name))\n",
    "\n",
    "my_project_id = 'carbide-trees-283313'\n",
    "my_glossary_id = \"my_en_zh_glossary\"\n",
    "\n",
    "delete_glossary(project_id=my_project_id, glossary_id=my_glossary_id)"
   ]
  },
  {
   "cell_type": "markdown",
   "metadata": {},
   "source": [
    "**Batch Translation with Glossary**"
   ]
  },
  {
   "cell_type": "code",
   "execution_count": 20,
   "metadata": {
    "tags": []
   },
   "outputs": [
    {
     "output_type": "stream",
     "name": "stdout",
     "text": "Waiting for operation to complete...\nTotal Characters: 47823\nTranslated Characters: 47823\n"
    }
   ],
   "source": [
    "from google.cloud import translate\n",
    "\n",
    "def batch_translate_text_with_glossary(\n",
    "    input_uri=\"gs://YOUR_BUCKET_ID/path/to/your/file.txt\",\n",
    "    output_uri=\"gs://YOUR_BUCKET_ID/path/to/save/results/\",\n",
    "    project_id=\"YOUR_PROJECT_ID\",\n",
    "    glossary_id=\"YOUR_GLOSSARY_ID\",\n",
    "):\n",
    "    \"\"\"Translates a batch of texts on GCS and stores the result in a GCS location.\n",
    "    Glossary is applied for translation.\"\"\"\n",
    "\n",
    "    client = translate.TranslationServiceClient()\n",
    "\n",
    "    # Supported language codes: https://cloud.google.com/translate/docs/languages\n",
    "    location = \"us-central1\"\n",
    "\n",
    "    # Supported file types: https://cloud.google.com/translate/docs/supported-formats\n",
    "    gcs_source = {\"input_uri\": input_uri}\n",
    "\n",
    "    input_configs_element = {\n",
    "        \"gcs_source\": gcs_source,\n",
    "        \"mime_type\": \"text/plain\"  # Can be \"text/plain\" or \"text/html\".\n",
    "    }\n",
    "    gcs_destination = {\"output_uri_prefix\": output_uri}\n",
    "    output_config = {\"gcs_destination\": gcs_destination}\n",
    "\n",
    "    parent = client.location_path(project_id, location)\n",
    "\n",
    "    # glossary is a custom dictionary Translation API uses\n",
    "    # to translate the domain-specific terminology.\n",
    "    glossary_path = client.glossary_path(\n",
    "        project_id, \"us-central1\", glossary_id  # The location of the glossary\n",
    "    )\n",
    "\n",
    "    glossary_config = translate.types.TranslateTextGlossaryConfig(\n",
    "        glossary=glossary_path\n",
    "    )\n",
    "\n",
    "    glossaries = {\"zh\": glossary_config}  # target lang as key\n",
    "\n",
    "    operation = client.batch_translate_text(\n",
    "        parent=parent,\n",
    "        source_language_code=\"en\",\n",
    "        target_language_codes=[\"zh\"],  # Up to 10 language codes here.\n",
    "        input_configs=[input_configs_element],\n",
    "        glossaries=glossaries,\n",
    "        output_config=output_config,\n",
    "    )\n",
    "\n",
    "    print(u\"Waiting for operation to complete...\")\n",
    "    response = operation.result(180)\n",
    "\n",
    "    print(u\"Total Characters: {}\".format(response.total_characters))\n",
    "    print(u\"Translated Characters: {}\".format(response.translated_characters))\n",
    "\n",
    "my_project_id = 'carbide-trees-283313'\n",
    "my_inpurt_url = \"gs://input_src/test/test.en.tsv\"\n",
    "my_output_url = \"gs://output_tgt/test/\"\n",
    "my_glossary_id = \"my_en_zh_glossary\"\n",
    "\n",
    "batch_translate_text_with_glossary(input_uri=my_inpurt_url, output_uri=my_output_url, project_id=my_project_id, glossary_id=my_glossary_id)\n"
   ]
  },
  {
   "cell_type": "markdown",
   "metadata": {},
   "source": [
    "**Write translated text back to the Excel table**"
   ]
  },
  {
   "cell_type": "code",
   "execution_count": 17,
   "metadata": {
    "tags": []
   },
   "outputs": [],
   "source": [
    "colnames = ['ind', 'en', 'zh']\n",
    "hyp = pd.read_csv('/home/xian/Documents/SUITE_Trans/test/test_input_src_test_test.en_zh-CN_translations.tsv', names=colnames, sep='\\t')\n",
    "\n",
    "df['Chinese (Simplified/China) (.NET)\\r\\n[ zh-CHS ]']=hyp.zh\n",
    "#print(df['Chinese (Simplified/China) (.NET)\\r\\n[ zh-CHS ]'])\n",
    "\n",
    "df.to_excel(\"/home/xian/Documents/SUITE_Trans/test/output.xlsx\")\n"
   ]
  },
  {
   "cell_type": "code",
   "execution_count": null,
   "metadata": {},
   "outputs": [],
   "source": []
  }
 ],
 "metadata": {
  "language_info": {
   "codemirror_mode": {
    "name": "ipython",
    "version": 3
   },
   "file_extension": ".py",
   "mimetype": "text/x-python",
   "name": "python",
   "nbconvert_exporter": "python",
   "pygments_lexer": "ipython3",
   "version": "3.7.6-final"
  },
  "orig_nbformat": 2,
  "kernelspec": {
   "name": "python_defaultSpec_1594806948668",
   "display_name": "Python 3.7.6 64-bit ('py37': conda)"
  }
 },
 "nbformat": 4,
 "nbformat_minor": 2
}